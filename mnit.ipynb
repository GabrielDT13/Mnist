{
 "cells": [
  {
   "cell_type": "code",
   "execution_count": 30,
   "metadata": {},
   "outputs": [
    {
     "name": "stdout",
     "output_type": "stream",
     "text": [
      "Máximo valor de la imagen: tensor(1.)\n",
      "Mínimo valor de la imagen: tensor(-1.)\n"
     ]
    }
   ],
   "source": [
    "import torch\n",
    "from torchvision import datasets, transforms\n",
    "from torch.utils.data import DataLoader\n",
    "from torch import nn, optim\n",
    "\n",
    "# Definimos las transformaciones para normalizar los datos\n",
    "# Las imágenes originales están en escala de grises con valores entre 0.0 y 1.0\n",
    "transform = transforms.Compose([\n",
    "    transforms.ToTensor(),  # Convertimos imágenes a Tensores\n",
    "    transforms.Normalize((0.5,), (0.5,))  # Normalizamos con media 0.5 y desviación estándar 0.5\n",
    "])\n",
    "\n",
    "# Cargamos el dataset MNIST\n",
    "train_data = datasets.MNIST(root='./data', train=True, download=True, transform=transform)\n",
    "test_data = datasets.MNIST(root='./data', train=False, download=True, transform=transform)\n",
    "\n",
    "print(\"Máximo valor de la imagen:\", train_data[0][0].squeeze().max())\n",
    "print(\"Mínimo valor de la imagen:\",train_data[0][0].squeeze().min())\n",
    "\n",
    "# DataLoader para los conjuntos de entrenamiento y prueba\n",
    "train_loader = DataLoader(train_data, batch_size=64, shuffle=True)\n",
    "test_loader = DataLoader(test_data, batch_size=64, shuffle=False)"
   ]
  },
  {
   "cell_type": "code",
   "execution_count": 31,
   "metadata": {},
   "outputs": [
    {
     "name": "stdout",
     "output_type": "stream",
     "text": [
      "1.0 -1.0\n",
      "1.0 0.0\n"
     ]
    },
    {
     "data": {
      "image/png": "[encoded data removed]",
      "text/plain": [
       "<Figure size 640x480 with 1 Axes>"
      ]
     },
     "metadata": {},
     "output_type": "display_data"
    }
   ],
   "source": [
    "# Vamos a visualizar una imagen del dataset\n",
    "import matplotlib.pyplot as plt\n",
    "import numpy as np\n",
    "\n",
    "# Obtenemos una imagen del dataset\n",
    "dataiter = iter(train_loader)\n",
    "images, labels = next(dataiter)\n",
    "\n",
    "#Variables para la predicción\n",
    "single_label = labels[0]\n",
    "single_image = images[0]\n",
    "\n",
    "# Convertimos la imagen a numpy y \"desaplanamos\"/redimensionamos si es necesario\n",
    "# Además, deshacemos la normalización aplicada previamente\n",
    "image = images[0].numpy().squeeze()  # Eliminamos dimensiones de tamaño 1\n",
    "\n",
    "print(image.max(), image.min())\n",
    "image = (image * 0.5) + 0.5  # Deshacemos la normalización\n",
    "print(image.max(), image.min())\n",
    "\n",
    "# Visualizamos la imagen\n",
    "plt.imshow(image, cmap='gray')\n",
    "plt.show()"
   ]
  },
  {
   "cell_type": "code",
   "execution_count": 32,
   "metadata": {},
   "outputs": [
    {
     "name": "stdout",
     "output_type": "stream",
     "text": [
      "Tamaño del batch de imágenes: torch.Size([64, 1, 28, 28])\n",
      "Tamaño del batch de etiquetas: torch.Size([64])\n"
     ]
    }
   ],
   "source": [
    "for images, labels in train_loader:\n",
    "    print(\"Tamaño del batch de imágenes:\", images.shape)\n",
    "    print(\"Tamaño del batch de etiquetas:\", labels.shape)\n",
    "    break"
   ]
  },
  {
   "cell_type": "code",
   "execution_count": 33,
   "metadata": {},
   "outputs": [
    {
     "name": "stdout",
     "output_type": "stream",
     "text": [
      "MNISTNet(\n",
      "  (fc1): Linear(in_features=784, out_features=512, bias=True)\n",
      "  (fc2): Linear(in_features=512, out_features=256, bias=True)\n",
      "  (fc3): Linear(in_features=256, out_features=10, bias=True)\n",
      ")\n",
      "Número de parámetros: 535818\n"
     ]
    }
   ],
   "source": [
    "#Definimos el modelo\n",
    "class MNISTNet(nn.Module):\n",
    "    def __init__(self):\n",
    "        super(MNISTNet, self).__init__()\n",
    "        # Imágenes de 28x28 entradas a 512 neuronas [64, 784]\n",
    "        self.fc1 = nn.Linear(784, 512)\n",
    "        # 512 a 256 neuronas\n",
    "        self.fc2 = nn.Linear(512,256)\n",
    "        # 256 a 10 neuronas (10 clases de MNIST)\n",
    "        self.fc3 = nn.Linear(256,10)\n",
    "\n",
    "    def forward(self, x):\n",
    "        # Aplanamos la imagen\n",
    "        x = x.flatten(start_dim=1)\n",
    "        x = torch.relu(self.fc1(x))\n",
    "        x = torch.relu(self.fc2(x))\n",
    "        x = self.fc3(x)\n",
    "\n",
    "        return x\n",
    "\n",
    "# Instanciamos la red\n",
    "net = MNISTNet()\n",
    "\n",
    "print(net)\n",
    "print(\"Número de parámetros:\", sum(p.numel() for p in net.parameters()))"
   ]
  },
  {
   "cell_type": "code",
   "execution_count": 34,
   "metadata": {},
   "outputs": [
    {
     "name": "stdout",
     "output_type": "stream",
     "text": [
      "Etiqueta real: 9\n",
      "Predicción del modelo: 0\n"
     ]
    }
   ],
   "source": [
    "# Predicción antes del entrenamiento\n",
    "with torch.no_grad():\n",
    "    output = net(single_image.unsqueeze(0))  # Agregar dimensión batch\n",
    "    predicted_label = torch.argmax(output, dim=1)  # Índice de la mayor probabilidad\n",
    "\n",
    "# Mostrar resultados\n",
    "print(f\"Etiqueta real: {single_label.item()}\")\n",
    "print(f\"Predicción del modelo: {predicted_label.item()}\")"
   ]
  },
  {
   "cell_type": "code",
   "execution_count": 35,
   "metadata": {},
   "outputs": [],
   "source": [
    "# Definimos la función de pérdida y el optimizador\n",
    "criterion = nn.CrossEntropyLoss()\n",
    "optimizer = optim.SGD(net.parameters(), lr=0.01)"
   ]
  },
  {
   "cell_type": "code",
   "execution_count": 36,
   "metadata": {},
   "outputs": [
    {
     "name": "stdout",
     "output_type": "stream",
     "text": [
      "Época 1, Pérdida: 0.9094348758109597\n",
      "Época 2, Pérdida: 0.3626765979489665\n",
      "Época 3, Pérdida: 0.30929436772140356\n",
      "Época 4, Pérdida: 0.27728572265425727\n",
      "Época 5, Pérdida: 0.251172219027779\n",
      "Época 6, Pérdida: 0.22787468654038048\n",
      "Época 7, Pérdida: 0.20713011514165128\n",
      "Época 8, Pérdida: 0.18927497975131088\n",
      "Época 9, Pérdida: 0.17379492379502573\n",
      "Época 10, Pérdida: 0.16031581167973627\n"
     ]
    }
   ],
   "source": [
    "# Entrenamiento de la red\n",
    "for epoch in range(10):  # Número de épocas\n",
    "    running_loss = 0.0\n",
    "    for images, labels in train_loader:\n",
    "        # Limpiamos los gradientes\n",
    "        optimizer.zero_grad()\n",
    "        # Calculamos las salidas\n",
    "        output = net(images)\n",
    "        # Calculamos la pérdida\n",
    "        loss = criterion(output, labels)\n",
    "        # Retropropagación\n",
    "        loss.backward()\n",
    "        # Actualizamos los pesos\n",
    "        optimizer.step()\n",
    "\n",
    "        running_loss += loss.item()\n",
    "    print(f'Época {epoch + 1}, Pérdida: {running_loss / len(train_loader)}')"
   ]
  },
  {
   "cell_type": "code",
   "execution_count": 37,
   "metadata": {},
   "outputs": [
    {
     "name": "stdout",
     "output_type": "stream",
     "text": [
      "Precisión del modelo en el conjunto de prueba: 95.15%\n",
      "Etiqueta real: 9\n",
      "Predicción del modelo: 9\n"
     ]
    }
   ],
   "source": [
    "# Evaluación del modelo\n",
    "correct = 0\n",
    "total = 0\n",
    "with torch.no_grad():\n",
    "    for images, labels in test_loader:\n",
    "        outputs = net(images)\n",
    "        _, predicted = torch.max(outputs.data, 1)\n",
    "        total += labels.size(0)\n",
    "        correct += (predicted == labels).sum().item()\n",
    "\n",
    "        #predicción despues del entrenamiento\n",
    "        output = net(single_image.unsqueeze(0))  # Agregar dimensión batch\n",
    "        predicted_label = torch.argmax(output, dim=1)  # Índice de la mayor probabilidad\n",
    "\n",
    "print(f'Precisión del modelo en el conjunto de prueba: {100 * correct / total}%')\n",
    "print(f\"Etiqueta real: {single_label.item()}\")\n",
    "print(f\"Predicción del modelo: {predicted_label.item()}\")"
   ]
  }
 ],
 "metadata": {
  "kernelspec": {
   "display_name": "base",
   "language": "python",
   "name": "python3"
  },
  "language_info": {
   "codemirror_mode": {
    "name": "ipython",
    "version": 3
   },
   "file_extension": ".py",
   "mimetype": "text/x-python",
   "name": "python",
   "nbconvert_exporter": "python",
   "pygments_lexer": "ipython3",
   "version": "3.12.7"
  }
 },
 "nbformat": 4,
 "nbformat_minor": 2
}
